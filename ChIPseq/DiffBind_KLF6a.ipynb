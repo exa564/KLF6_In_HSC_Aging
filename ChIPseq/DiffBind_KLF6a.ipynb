{
 "cells": [
  {
   "cell_type": "markdown",
   "metadata": {},
   "source": [
    "# Overview: DiffBind analysis of KLF6a in young and aged HSPC\n",
    "- Will perform differential analysis on H3K4me1, H3K4me3, and H3K27ac\n",
    "- Have 2 replicates for each group\n",
    "- Will use the narroPeaks called by macs2\n",
    "- Will perform the following comparisons:\n",
    "    - Yng_NTC vs Yng_Act\n",
    "    - Aged_NTC vs Aged_Act\n",
    "- Note that the \"fold\" reported by diffbind is in a log2 scale, it is not directly equivalent to conc2-conc1,because diffbind corrects the fold-change"
   ]
  },
  {
   "cell_type": "code",
   "execution_count": null,
   "metadata": {},
   "outputs": [],
   "source": [
    "library(DiffBind)\n",
    "library(ggplot2)\n",
    "library(tidyr)\n",
    "library(ggpubr)\n",
    "library(gridExtra)\n",
    "library(chipenrich)\n",
    "library(genomation)\n",
    "library(GenomicRanges)"
   ]
  },
  {
   "cell_type": "code",
   "execution_count": null,
   "metadata": {},
   "outputs": [],
   "source": [
    "set.seed(123)"
   ]
  },
  {
   "cell_type": "code",
   "execution_count": null,
   "metadata": {},
   "outputs": [],
   "source": [
    "setwd(\"/ChIPseq/\")"
   ]
  },
  {
   "cell_type": "code",
   "execution_count": 2,
   "metadata": {
    "collapsed": true,
    "jupyter": {
     "outputs_hidden": true
    }
   },
   "outputs": [
    {
     "data": {
      "text/plain": [
       "R version 4.0.2 (2020-06-22)\n",
       "Platform: x86_64-conda_cos6-linux-gnu (64-bit)\n",
       "Running under: Debian GNU/Linux 10 (buster)\n",
       "\n",
       "Matrix products: default\n",
       "BLAS/LAPACK: /opt/conda/envs/diffbind/lib/libopenblasp-r0.3.10.so\n",
       "\n",
       "locale:\n",
       " [1] LC_CTYPE=C.UTF-8       LC_NUMERIC=C           LC_TIME=C.UTF-8       \n",
       " [4] LC_COLLATE=C.UTF-8     LC_MONETARY=C.UTF-8    LC_MESSAGES=C.UTF-8   \n",
       " [7] LC_PAPER=C.UTF-8       LC_NAME=C              LC_ADDRESS=C          \n",
       "[10] LC_TELEPHONE=C         LC_MEASUREMENT=C.UTF-8 LC_IDENTIFICATION=C   \n",
       "\n",
       "attached base packages:\n",
       " [1] grid      parallel  stats4    stats     graphics  grDevices utils    \n",
       " [8] datasets  methods   base     \n",
       "\n",
       "other attached packages:\n",
       " [1] genomation_1.22.0           chipenrich_2.14.0          \n",
       " [3] gridExtra_2.3               ggpubr_0.4.0               \n",
       " [5] tidyr_1.1.2                 ggplot2_3.3.3              \n",
       " [7] DiffBind_3.0.9              SummarizedExperiment_1.20.0\n",
       " [9] Biobase_2.50.0              MatrixGenerics_1.2.0       \n",
       "[11] matrixStats_0.57.0          GenomicRanges_1.42.0       \n",
       "[13] GenomeInfoDb_1.26.2         IRanges_2.24.1             \n",
       "[15] S4Vectors_0.28.1            BiocGenerics_0.36.0        \n",
       "\n",
       "loaded via a namespace (and not attached):\n",
       "  [1] rms_6.1-0                tidyselect_1.1.0         htmlwidgets_1.5.3       \n",
       "  [4] RSQLite_2.2.1            AnnotationDbi_1.52.0     BiocParallel_1.24.1     \n",
       "  [7] munsell_0.5.0            base64url_1.4            codetools_0.2-18        \n",
       " [10] systemPipeR_1.24.2       pbdZMQ_0.3-4             withr_2.3.0             \n",
       " [13] colorspace_2.0-0         Category_2.56.0          knitr_1.30              \n",
       " [16] uuid_0.1-4               rstudioapi_0.13          ggsignif_0.6.0          \n",
       " [19] org.Dr.eg.db_3.12.0      org.Rn.eg.db_3.12.0      repr_1.1.0              \n",
       " [22] bbmle_1.0.23.1           GenomeInfoDbData_1.2.4   mixsqp_0.3-43           \n",
       " [25] hwriter_1.3.2            seqPattern_1.22.0        bit64_4.0.5             \n",
       " [28] pheatmap_1.0.12          TH.data_1.0-10           coda_0.19-4             \n",
       " [31] batchtools_0.9.14        vctrs_0.3.6              generics_0.1.0          \n",
       " [34] xfun_0.20                BiocFileCache_1.14.0     R6_2.5.0                \n",
       " [37] apeglm_1.12.0            invgamma_1.1             locfit_1.5-9.4          \n",
       " [40] rsvg_2.1                 bitops_1.0-6             DelayedArray_0.16.0     \n",
       " [43] assertthat_0.2.1         scales_1.1.1             multcomp_1.4-15         \n",
       " [46] nnet_7.3-15              gtable_0.3.0             org.Mm.eg.db_3.12.0     \n",
       " [49] conquer_1.0.2            sandwich_3.0-0           MatrixModels_0.4-1      \n",
       " [52] rlang_0.4.10             genefilter_1.72.0        splines_4.0.2           \n",
       " [55] rtracklayer_1.50.0       rstatix_0.6.0            impute_1.64.0           \n",
       " [58] broom_0.7.3              brew_1.0-6               checkmate_2.0.0         \n",
       " [61] reshape2_1.4.4           yaml_2.2.1               abind_1.4-5             \n",
       " [64] GenomicFeatures_1.42.1   backports_1.2.1          Hmisc_4.4-2             \n",
       " [67] RBGL_1.66.0              tools_4.0.2              gridBase_0.4-7          \n",
       " [70] ellipsis_0.3.1           gplots_3.1.1             RColorBrewer_1.1-2      \n",
       " [73] Rcpp_1.0.5               plyr_1.8.6               base64enc_0.1-3         \n",
       " [76] progress_1.2.2           zlibbioc_1.36.0          purrr_0.3.4             \n",
       " [79] RCurl_1.98-1.2           prettyunits_1.1.1        rpart_4.1-15            \n",
       " [82] openssl_1.4.3            ashr_2.2-47              zoo_1.8-8               \n",
       " [85] cluster_2.1.0            haven_2.3.1              ggrepel_0.9.0           \n",
       " [88] magrittr_2.0.1           data.table_1.13.6        openxlsx_4.2.3          \n",
       " [91] SparseM_1.78             truncnorm_1.0-8          mvtnorm_1.1-1           \n",
       " [94] SQUAREM_2020.5           amap_0.8-18              hms_0.5.3               \n",
       " [97] evaluate_0.14            xtable_1.8-4             XML_3.99-0.5            \n",
       "[100] rio_0.5.16               emdbook_1.3.12           jpeg_0.1-8.1            \n",
       "[103] readxl_1.3.1             compiler_4.0.2           biomaRt_2.46.0          \n",
       "[106] bdsmatrix_1.3-4          tibble_3.0.4             KernSmooth_2.23-18      \n",
       "[109] V8_3.4.0                 crayon_1.3.4             htmltools_0.5.0         \n",
       "[112] GOstats_2.56.0           mgcv_1.8-33              Formula_1.2-4           \n",
       "[115] DBI_1.1.0                dbplyr_2.0.0             MASS_7.3-53             \n",
       "[118] rappdirs_0.3.1           ShortRead_1.48.0         Matrix_1.3-0            \n",
       "[121] car_3.0-10               readr_1.4.0              forcats_0.5.0           \n",
       "[124] pkgconfig_2.0.3          GenomicAlignments_1.26.0 numDeriv_2016.8-1.1     \n",
       "[127] foreign_0.8-81           IRdisplay_0.7.0          xml2_1.3.2              \n",
       "[130] chipenrich.data_2.3.0    annotate_1.68.0          XVector_0.30.0          \n",
       "[133] AnnotationForge_1.32.0   stringr_1.4.0            VariantAnnotation_1.36.0\n",
       "[136] digest_0.6.27            graph_1.68.0             Biostrings_2.58.0       \n",
       "[139] cellranger_1.1.0         htmlTable_2.1.0          edgeR_3.32.0            \n",
       "[142] GSEABase_1.52.1          GreyListChIP_1.22.0      curl_4.3                \n",
       "[145] quantreg_5.83            Rsamtools_2.6.0          gtools_3.8.2            \n",
       "[148] rjson_0.2.20             lifecycle_0.2.0          nlme_3.1-151            \n",
       "[151] jsonlite_1.7.2           org.Dm.eg.db_3.12.0      carData_3.0-4           \n",
       "[154] askpass_1.1              limma_3.46.0             BSgenome_1.58.0         \n",
       "[157] pillar_1.4.7             lattice_0.20-41          plotrix_3.8-1           \n",
       "[160] httr_1.4.2               survival_3.2-7           GO.db_3.12.1            \n",
       "[163] glue_1.4.2               zip_2.1.1                png_0.1-7               \n",
       "[166] bit_4.0.4                Rgraphviz_2.34.0         stringi_1.5.3           \n",
       "[169] blob_1.2.1               polspline_1.1.19         org.Hs.eg.db_3.12.0     \n",
       "[172] latticeExtra_0.6-29      caTools_1.18.0           memoise_1.1.0           \n",
       "[175] DOT_0.1                  IRkernel_1.1.1           dplyr_1.0.2             \n",
       "[178] irlba_2.3.3             "
      ]
     },
     "metadata": {},
     "output_type": "display_data"
    }
   ],
   "source": [
    "sessionInfo()"
   ]
  },
  {
   "cell_type": "code",
   "execution_count": null,
   "metadata": {},
   "outputs": [],
   "source": [
    "samples = read.csv('/ChIPseq/diffBind_KLF6a_sampleSheet.csv')"
   ]
  },
  {
   "cell_type": "code",
   "execution_count": null,
   "metadata": {},
   "outputs": [],
   "source": [
    "samples$Condition=factor(samples$Condition, levels = c(\"Yng_NTC\", \"Yng_Act\", \"Aged_NTC\", \"Aged_Act\"))"
   ]
  },
  {
   "cell_type": "markdown",
   "metadata": {},
   "source": [
    "### Make object for each IP"
   ]
  },
  {
   "cell_type": "code",
   "execution_count": null,
   "metadata": {},
   "outputs": [],
   "source": [
    "samples_H3K4me3 = samples[samples$Factor == 'H3K4me3',]\n",
    "samples_H3K27ac = samples[samples$Factor == 'H3K27ac',]\n",
    "samples_H3K4me1 = samples[samples$Factor == 'H3K4me1',]"
   ]
  },
  {
   "cell_type": "code",
   "execution_count": null,
   "metadata": {},
   "outputs": [],
   "source": [
    "samples_H3K4me3_YNYA= samples_H3K4me3[samples_H3K4me3$Condition %in% c(\"Yng_NTC\", \"Yng_Act\"),]\n",
    "samples_H3K4me3_ANAA= samples_H3K4me3[samples_H3K4me3$Condition %in% c(\"Aged_NTC\", \"Aged_Act\"),]\n",
    "\n",
    "samples_H3K4me1_YNYA= samples_H3K4me1[samples_H3K4me1$Condition %in% c(\"Yng_NTC\", \"Yng_Act\"),]\n",
    "samples_H3K4me1_ANAA= samples_H3K4me1[samples_H3K4me1$Condition %in% c(\"Aged_NTC\", \"Aged_Act\"),]\n",
    "\n",
    "samples_H3K27ac_YNYA= samples_H3K27ac[samples_H3K27ac$Condition %in% c(\"Yng_NTC\", \"Yng_Act\"),]\n",
    "samples_H3K27ac_ANAA= samples_H3K27ac[samples_H3K27ac$Condition %in% c(\"Aged_NTC\", \"Aged_Act\"),]"
   ]
  },
  {
   "cell_type": "markdown",
   "metadata": {},
   "source": [
    "# Main Function"
   ]
  },
  {
   "cell_type": "code",
   "execution_count": null,
   "metadata": {},
   "outputs": [],
   "source": [
    "### This will use will use bUseSummarizeOverlaps=TRUE\n",
    "### Need to modify if have multiple contrasts to choose from\n",
    "### Also assumes minMembers=2, if have a larger dataset, modify this\n",
    "diffbind_difPeaks <- function(config_table, output_name){\n",
    "    suppressMessages(library(DiffBind)) \n",
    "    path = getwd()\n",
    "    chipenrich_dir <- \"chipenrich\"\n",
    "    chipenrich_path <- file.path(dirname(path), chipenrich_dir)\n",
    "    print(chipenrich_path)\n",
    "    dir.create(chipenrich_path)\n",
    "    output_name2 = as.name(output_name)\n",
    "    all_name = paste(output_name2, \"_all.txt\", sep=\"\")\n",
    "    dn_name = paste(output_name2, \"_dn_peak.txt\", sep=\"\")\n",
    "    up_name = paste(output_name2, \"_up_peak.txt\", sep=\"\")\n",
    "    \n",
    "    \n",
    "    ###Make sample sheet\n",
    "    ###Affinity binding matrix\n",
    "    ###Establish contrast\n",
    "    ###Perform differential analysis\n",
    "    ###Extract results for DESeq2 method and export as table\n",
    "    dbObj <- dba(sampleSheet=config_table)\n",
    "    dbObj_abm <- dba.count(dbObj, bUseSummarizeOverlaps=TRUE)\n",
    "    dbObj_con <- dba.contrast(dbObj_abm, categories=DBA_CONDITION, minMembers = 2) \n",
    "    dbObj_diff<- dba.analyze(dbObj_con, method=DBA_ALL_METHODS) \n",
    "    res_deseq <- dba.report(dbObj_diff, method=DBA_DESEQ2) \n",
    "    res_deseq_df = as.data.frame(res_deseq)\n",
    "    write.table(res_deseq_df, all_name, quote = F, sep=\"\\t\", row.names=F)\n",
    "\n",
    "    \n",
    "    ###Extract peaks that go down or up and export as .txt file\n",
    "    ### Annotate to hg19 using chipenrich\n",
    "    if (dim(res_deseq_df)[1] > 0) {   \n",
    "        res_deseq_dn = res_deseq_df[res_deseq_df$Fold < 0, ]\n",
    "        res_deseq_up = res_deseq_df[res_deseq_df$Fold > 0, ]\n",
    "        dn_chipenrich_name= paste(output_name2, \"_deseq_dn\", sep=\"\")\n",
    "        up_chipenrich_name= paste(output_name2, \"_deseq_up\", sep=\"\")\n",
    "        if (dim(res_deseq_dn)[1] > 0) {\n",
    "            write.table(res_deseq_dn, dn_name, quote = F, sep=\"\\t\", row.names=F)\n",
    "            chipenrich(res_deseq_dn, out_name=dn_chipenrich_name, out_path=chipenrich_path, \n",
    "                       genome=\"hg19_refseq\", genesets=c(\"kegg_pathway\", \"panther_pathway\", \"biocarta_pathway\", \"GOBP\", \"GOCC\", \"GOMF\"), \n",
    "                       method = \"chipenrich\", fisher_alt=\"two.sided\", qc_plots=T, max_geneset=500, num_peak_threshold=1, \n",
    "                       n_cores=2, locusdef=\"nearest_tss\")\n",
    "        } else{\n",
    "            print(\"no downpeaks\")\n",
    "        }\n",
    "        if (dim(res_deseq_up)[1] > 0) {\n",
    "            write.table(res_deseq_up, up_name, quote = F, sep=\"\\t\", row.names=F)\n",
    "            chipenrich(res_deseq_up, out_name=up_chipenrich_name, out_path=chipenrich_path, \n",
    "                       genome=\"hg19_refseq\", genesets=c(\"kegg_pathway\", \"panther_pathway\", \"biocarta_pathway\", \"GOBP\", \"GOCC\", \"GOMF\"), \n",
    "                       method = \"chipenrich\", fisher_alt=\"two.sided\", qc_plots=T, max_geneset=500, num_peak_threshold=1, \n",
    "                       n_cores=2, locusdef=\"nearest_tss\")\n",
    "        } else{\n",
    "            print(\"no up peaks\")\n",
    "        }\n",
    "        dim_list=list(\"up_peaks\"=dim(res_deseq_up)[1], \"down_peaks\"=dim(res_deseq_dn)[1])\n",
    "        print(dim_list)\n",
    "    } else {\n",
    "        print(\"No significant peaks\")\n",
    "}\n",
    "}\n",
    "\n"
   ]
  },
  {
   "cell_type": "code",
   "execution_count": null,
   "metadata": {},
   "outputs": [],
   "source": [
    "diffbind_difPeaks(samples_H3K27ac_ANAA, \"H3K27ac_ANvsAA\")\n",
    "diffbind_difPeaks(samples_H3K4me1_ANAA, \"H3K4me1_ANvsAA\")\n",
    "diffbind_difPeaks(samples_H3K4me3_ANAA, \"H3K4me3_ANvsAA\")\n",
    "diffbind_difPeaks(samples_H3K27ac_YNYA, \"H3K27ac_YNvsYA\")\n",
    "diffbind_difPeaks(samples_H3K4me1_YNYA, \"H3K4me1_YNvsYA\")\n",
    "diffbind_difPeaks(samples_H3K4me3_YNYA, \"H3K4me3_YNvsYA\")"
   ]
  }
 ],
 "metadata": {
  "kernelspec": {
   "display_name": "R",
   "language": "R",
   "name": "ir"
  },
  "language_info": {
   "codemirror_mode": "r",
   "file_extension": ".r",
   "mimetype": "text/x-r-source",
   "name": "R",
   "pygments_lexer": "r",
   "version": "4.0.2"
  }
 },
 "nbformat": 4,
 "nbformat_minor": 4
}
