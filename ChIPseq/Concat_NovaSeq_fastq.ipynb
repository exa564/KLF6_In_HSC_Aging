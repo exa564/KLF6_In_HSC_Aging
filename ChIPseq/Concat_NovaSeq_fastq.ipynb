{
 "cells": [
  {
   "cell_type": "markdown",
   "metadata": {},
   "source": [
    "# I) Overview  \n",
    "- This will concantenate .fastq.gz files for samples that were run in multiple lanes\n",
    "- This will work for both single end (contain R1 only) or paired-end (contain R1 and R2)\n",
    "- Will rename the file using the figueroa lab ID e.g 'EA00001'\n",
    "- Requires a tab seperated SampleID.txt file with headers. The first column is the 'core_id' (id that core used to name the files, typically just a number) and the second column is 'figueroa_id', the name that the files will be renamed as\n",
    "- This assumes that:\n",
    "    - files end with R1_001.fastq.gz or R2_001.fastq.gz\n",
    "    - All .fastq.gz files are in the same directory\n",
    "\n",
    "\n"
   ]
  },
  {
   "cell_type": "code",
   "execution_count": null,
   "metadata": {},
   "outputs": [],
   "source": [
    "import pandas as pd"
   ]
  },
  {
   "cell_type": "code",
   "execution_count": null,
   "metadata": {},
   "outputs": [],
   "source": [
    "input_dir = \"/raw_data/\"\n",
    "output_dir = \"/ChIPseq/fastq/\"\n",
    "sampleID = pd.read_csv('/SampleID.txt', sep='\\t')\n",
    "sample_hash_id = dict(zip(sampleID.core_id, sampleID.figueroa_id))"
   ]
  },
  {
   "cell_type": "code",
   "execution_count": null,
   "metadata": {},
   "outputs": [],
   "source": [
    "files_R1= !find {input_dir} | grep _R1_001.fastq.gz | grep -v \"Undetermined\"\n",
    "files_R2= !find {input_dir} | grep _R1_002.fastq.gz | grep -v \"Undetermined\""
   ]
  },
  {
   "cell_type": "code",
   "execution_count": null,
   "metadata": {},
   "outputs": [],
   "source": [
    "files_R1_df=pd.DataFrame(files_R1)\n",
    "files_R2_df=pd.DataFrame(files_R2)"
   ]
  },
  {
   "cell_type": "code",
   "execution_count": null,
   "metadata": {},
   "outputs": [],
   "source": [
    "def cat_fastq(df):\n",
    "    if not df.empty:\n",
    "        df['fastq_id']= df[0].apply(lambda x: x.split(\"/\")[-1].split(\"_\")[1])\n",
    "        df_g = df.groupby('fastq_id')\n",
    "        final_cmd = []\n",
    "        start =1\n",
    "        for k, v in df_g:\n",
    "            files_to_concat = ' '.join(v[0].values.tolist())\n",
    "            new_name = output_dir + sample_hash_id[k]\n",
    "            files_to_concat_just_name = ' '.join([f.split('/')[-1] for f  in files_to_concat.split(' ') ])\n",
    "            cmd = f' (cd {input_dir} ; cat {files_to_concat_just_name} > {new_name}.fastq.gz)'\n",
    "            final_cmd.append(cmd)\n",
    "        cmd_torun=' & '.join(final_cmd)\n",
    "        #!$cmd_torun\n",
    "        print(cmd_torun)\n",
    "    else:\n",
    "        print('DataFrame is empty!')\n"
   ]
  },
  {
   "cell_type": "code",
   "execution_count": null,
   "metadata": {},
   "outputs": [],
   "source": [
    "cat_fastq(files_R2_df)"
   ]
  },
  {
   "cell_type": "code",
   "execution_count": null,
   "metadata": {},
   "outputs": [],
   "source": [
    "cat_fastq(files_R1_df)"
   ]
  },
  {
   "cell_type": "code",
   "execution_count": null,
   "metadata": {},
   "outputs": [],
   "source": []
  }
 ],
 "metadata": {
  "kernelspec": {
   "display_name": "Python 3",
   "language": "python",
   "name": "python3"
  },
  "language_info": {
   "codemirror_mode": {
    "name": "ipython",
    "version": 3
   },
   "file_extension": ".py",
   "mimetype": "text/x-python",
   "name": "python",
   "nbconvert_exporter": "python",
   "pygments_lexer": "ipython3",
   "version": "3.7.4"
  }
 },
 "nbformat": 4,
 "nbformat_minor": 4
}
