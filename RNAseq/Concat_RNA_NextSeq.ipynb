{
 "cells": [
  {
   "cell_type": "code",
   "execution_count": 1,
   "metadata": {},
   "outputs": [],
   "source": [
    "import pandas as pd\n",
    "import numpy as np"
   ]
  },
  {
   "cell_type": "code",
   "execution_count": 3,
   "metadata": {},
   "outputs": [],
   "source": [
    "input_dir = \"/raw_data/\"\n",
    "output_dir = \"/RNAseq/fastq/\"\n",
    "sampleID = pd.read_csv('/RNAseq/SampleID.txt', sep='\\t')"
   ]
  },
  {
   "cell_type": "code",
   "execution_count": 4,
   "metadata": {},
   "outputs": [],
   "source": [
    "sample_hash_id = dict(zip(sampleID.core_id, sampleID.figueroa_id))"
   ]
  },
  {
   "cell_type": "code",
   "execution_count": 6,
   "metadata": {},
   "outputs": [],
   "source": [
    "files_R1= !find {input_dir} | grep _R1_001.fastq.gz | grep -v \"Undetermined\"\n",
    "files_R2= !find {input_dir} | grep _R2_001.fastq.gz | grep -v \"Undetermined\""
   ]
  },
  {
   "cell_type": "code",
   "execution_count": 7,
   "metadata": {},
   "outputs": [],
   "source": [
    "files_R1_df=pd.DataFrame({'fastq_path':files_R1})\n",
    "files_R2_df=pd.DataFrame({'fastq_path':files_R2})"
   ]
  },
  {
   "cell_type": "code",
   "execution_count": 20,
   "metadata": {},
   "outputs": [],
   "source": [
    "def cat_fastq(mydir):\n",
    "\n",
    "    \n",
    "    files_R1= !find {mydir} | grep _R1_001.fastq.gz | grep -v \"Undetermined\"\n",
    "    files_R2= !find {mydir} | grep _R2_001.fastq.gz | grep -v \"Undetermined\"\n",
    "    #print(files_R1)\n",
    "    \n",
    "    files_R1_df=pd.DataFrame(files_R1)\n",
    "    files_R2_df=pd.DataFrame(files_R2)\n",
    "\n",
    "\n",
    "    if not files_R1_df.empty:\n",
    "        files_R1_df['fastq_id']= files_R1_df[0].apply(lambda x: x.split(\"/\")[-1].split(\"_\")[1])\n",
    "        R1_g = files_R1_df.groupby('fastq_id')\n",
    "        final_cmd = []\n",
    "        start =1\n",
    "        for k, v in R1_g:\n",
    "            files_to_concat = ' '.join(v[0].values.tolist())\n",
    "            new_name = output_dir + sample_hash_id[k]\n",
    "            files_to_concat_just_name = ' '.join([f.split('/')[-1] for f  in files_to_concat.split(' ') ])\n",
    "            cmd = f' (cd {input_dir} ; cat {files_to_concat_just_name} > {new_name}_R1.fastq.gz)'\n",
    "            final_cmd.append(cmd)\n",
    "        cmd_torun=' & '.join(final_cmd)\n",
    "        #!$cmd_torun\n",
    "        print(cmd_torun)\n",
    "    else:\n",
    "        print('DataFrame is empty!')\n",
    "        \n",
    "    if not files_R2_df.empty:\n",
    "        files_R2_df['fastq_id']= files_R2_df[0].apply(lambda x: x.split(\"/\")[-1].split(\"_\")[1])\n",
    "        R2_g = files_R2_df.groupby('fastq_id')\n",
    "        final_cmd = []\n",
    "        start =1\n",
    "        for k, v in R2_g:\n",
    "            files_to_concat = ' '.join(v[0].values.tolist())\n",
    "            new_name = output_dir + sample_hash_id[k]\n",
    "            files_to_concat_just_name = ' '.join([f.split('/')[-1] for f  in files_to_concat.split(' ') ])\n",
    "            cmd = f' (cd {input_dir} ; cat {files_to_concat_just_name} > {new_name}_R2.fastq.gz)'\n",
    "            final_cmd.append(cmd)\n",
    "        cmd_torun=' & '.join(final_cmd)\n",
    "        #!$cmd_torun\n",
    "        print(cmd_torun)\n",
    "    else:\n",
    "        print('DataFrame is empty!')\n"
   ]
  },
  {
   "cell_type": "code",
   "execution_count": null,
   "metadata": {},
   "outputs": [],
   "source": [
    "cat_fastq(input_dir)"
   ]
  }
 ],
 "metadata": {
  "kernelspec": {
   "display_name": "Python 3",
   "language": "python",
   "name": "python3"
  },
  "language_info": {
   "codemirror_mode": {
    "name": "ipython",
    "version": 3
   },
   "file_extension": ".py",
   "mimetype": "text/x-python",
   "name": "python",
   "nbconvert_exporter": "python",
   "pygments_lexer": "ipython3",
   "version": "3.7.4"
  }
 },
 "nbformat": 4,
 "nbformat_minor": 4
}
