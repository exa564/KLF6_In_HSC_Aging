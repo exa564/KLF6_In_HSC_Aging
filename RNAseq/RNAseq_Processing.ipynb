{
 "cells": [
  {
   "cell_type": "markdown",
   "metadata": {},
   "source": [
    "# I) Overview\n",
    "- This notebook is for HUMAN paired-end 75 bp RNA-seq libraries\n",
    "- If read length is different, modify it within the main function"
   ]
  },
  {
   "cell_type": "code",
   "execution_count": null,
   "metadata": {},
   "outputs": [],
   "source": [
    "import sys\n",
    "import pandas as pd\n",
    "from multiprocessing.pool import Pool\n",
    "import os"
   ]
  },
  {
   "cell_type": "markdown",
   "metadata": {},
   "source": [
    "### Need to install QoRTs"
   ]
  },
  {
   "cell_type": "code",
   "execution_count": null,
   "metadata": {},
   "outputs": [],
   "source": [
    "#!conda install -c bioconda qorts --yes"
   ]
  },
  {
   "cell_type": "code",
   "execution_count": null,
   "metadata": {},
   "outputs": [],
   "source": [
    "config = pd.read_csv('/rnaseq_data/SampleID.txt', sep=\"\\t\")"
   ]
  },
  {
   "cell_type": "code",
   "execution_count": null,
   "metadata": {},
   "outputs": [],
   "source": [
    "config.head()"
   ]
  },
  {
   "cell_type": "code",
   "execution_count": null,
   "metadata": {},
   "outputs": [],
   "source": [
    "path_to_fastq = \"/rnaseq_data/fastq/\""
   ]
  },
  {
   "cell_type": "code",
   "execution_count": null,
   "metadata": {},
   "outputs": [],
   "source": [
    "config['fastq_R1']= path_to_fastq + config['figueroa_id'] + '_R1.fastq.gz'\n",
    "config['fastq_R2']= path_to_fastq + config['figueroa_id'] + '_R2.fastq.gz'\n",
    "config['name']= config['figueroa_id']"
   ]
  },
  {
   "cell_type": "code",
   "execution_count": null,
   "metadata": {},
   "outputs": [],
   "source": [
    "genome_path=\"/genome/STAR_v2.7.3/Indices/\" # Change if need different genome/species\n",
    "fastq_path=\"/rnaseq_data/fastq/\" # change as necceseary\n",
    "working_dir=\"/rnaseq_data/\""
   ]
  },
  {
   "cell_type": "code",
   "execution_count": null,
   "metadata": {},
   "outputs": [],
   "source": [
    "aligned_dir = 'STAR/'\n",
    "counts_dir = 'counts/'\n",
    "aligned_path = os.path.join(working_dir, aligned_dir)\n",
    "counts_path = os.path.join(working_dir, counts_dir)\n",
    "os.makedirs(aligned_path)\n",
    "os.makedirs(counts_path)"
   ]
  },
  {
   "cell_type": "markdown",
   "metadata": {},
   "source": [
    "### Change to False In Order to Run!!"
   ]
  },
  {
   "cell_type": "code",
   "execution_count": null,
   "metadata": {},
   "outputs": [],
   "source": [
    "#DEBUG=True\n",
    "DEBUG=False"
   ]
  },
  {
   "cell_type": "code",
   "execution_count": null,
   "metadata": {},
   "outputs": [],
   "source": [
    "def run_RNAseq(x):\n",
    "    \n",
    "    read_length = 75 # change as appropriate\n",
    "    \n",
    "    # 1) Perform fastqc on both R1 and R2 fastq files\n",
    "    \n",
    "    fastq_R1_fullpath=x['fastq_R1']\n",
    "    fastq_R2_fullpath= x['fastq_R2']\n",
    "    cmd1 = f'fastqc  --noextract -f fastq -t 5 {fastq_R1_fullpath} & fastqc  --noextract -f fastq -t 5 {fastq_R2_fullpath}'\n",
    "\n",
    "    print ('=' * 30)\n",
    "    print (cmd1)\n",
    "    if DEBUG == False:\n",
    "        os.system(cmd1)\n",
    "        \n",
    "        \n",
    "    # 2) Trim adapters\n",
    "    # Will run R1 and R2 together\n",
    "    \n",
    "    name=x['name']\n",
    "    min_length = read_length - 3\n",
    "    trim_length = read_length - 2\n",
    "    cmd2 = f'cutadapt -a AGATCGGAAGAGC -A AGATCGGAAGAGC -m {min_length} --length {trim_length} -o {fastq_path}{name}_R1_trim.fastq.gz  -p {fastq_path}{name}_R2_trim.fastq.gz  {fastq_R1_fullpath} {fastq_R2_fullpath}'\n",
    "\n",
    "        \n",
    "    print ('=' * 30)\n",
    "    print (cmd2)\n",
    "    if DEBUG == False:\n",
    "        os.system(cmd2)\n",
    "            \n",
    "     \n",
    "    # 3) Align trimmed fastq to hg19 using STAR\n",
    "    \n",
    "    trim_R1_fullpath = fastq_path + name + '_R1_trim.fastq.gz'\n",
    "    trim_R2_fullpath = fastq_path + name + '_R2_trim.fastq.gz'\n",
    "    aligned_name = aligned_path + x['name'] + '_Aligned.sortedByCoord.out.bam'\n",
    "\n",
    "    cmd3 = f'cd {aligned_path}; STAR --runThreadN 5  --genomeDir {genome_path} --readFilesIn {trim_R1_fullpath} {trim_R2_fullpath} --outFileNamePrefix {name}_ --outFilterType BySJout --outFilterMultimapNmax 20 --alignSJoverhangMin 8 --alignSJDBoverhangMin 1 --outFilterMismatchNmax 999 --alignIntronMin 20 --alignIntronMax 1000000 --alignMatesGapMax 1000000  --readFilesCommand gunzip -c  --outSAMtype BAM SortedByCoordinate --outWigType bedGraph --outWigStrand Stranded --outWigNorm RPM --alignEndsType EndToEnd; cd ../'\n",
    "\n",
    "    print ('=' * 30)\n",
    "    print (cmd3)\n",
    "    if DEBUG == False:\n",
    "        os.system(cmd3)\n",
    "        \n",
    "        \n",
    "    # 4) Name sort .bam files\n",
    "    \n",
    "    cmd4 = f'samtools sort -n {aligned_name} -@ 5 -o {aligned_path}{name}.sorted.bam'\n",
    "    \n",
    "    print ('=' * 30)\n",
    "    print (cmd4)\n",
    "    if DEBUG == False:\n",
    "        os.system(cmd4)\n",
    "        \n",
    "        \n",
    "    # 5) Call counts with qorts\n",
    "    # Need to make directory for each file\n",
    "    # This is stranded ( --stranded)\n",
    "    # This is for paired-end data\n",
    "    \n",
    "    sorted_bam = aligned_path + name + \".sorted.bam\"\n",
    "    cmd5 = f'cd {counts_path}; mkdir {name}; cd ../; java -jar /opt/conda/pkgs/qorts-1.3.0-2/share/qorts-1.3.0-2/QoRTs.jar  QC  --nameSorted --maxReadLength {read_length} --stranded --generatePlots  {sorted_bam}  /genome/hg19_GTF/gencode.v19.ann_wERCC_wo_rRNA.gtf {counts_path}{name}/'\n",
    "\n",
    "    print ('=' * 30)\n",
    "    print (cmd5)\n",
    "    if DEBUG == False:\n",
    "        os.system(cmd5)\n",
    "\n",
    "\n",
    "#     print ('========end========')  "
   ]
  },
  {
   "cell_type": "code",
   "execution_count": null,
   "metadata": {},
   "outputs": [],
   "source": [
    "PROCESSORS = 5 "
   ]
  },
  {
   "cell_type": "code",
   "execution_count": null,
   "metadata": {},
   "outputs": [],
   "source": [
    "p_dup =Pool(PROCESSORS)"
   ]
  },
  {
   "cell_type": "code",
   "execution_count": null,
   "metadata": {},
   "outputs": [],
   "source": [
    "p_dup.map(run_RNAseq, [config.iloc[x] for x in range(config.shape[0])] ) "
   ]
  },
  {
   "cell_type": "code",
   "execution_count": null,
   "metadata": {},
   "outputs": [],
   "source": []
  }
 ],
 "metadata": {
  "kernelspec": {
   "display_name": "Python 3",
   "language": "python",
   "name": "python3"
  },
  "language_info": {
   "codemirror_mode": {
    "name": "ipython",
    "version": 3
   },
   "file_extension": ".py",
   "mimetype": "text/x-python",
   "name": "python",
   "nbconvert_exporter": "python",
   "pygments_lexer": "ipython3",
   "version": "3.7.4"
  }
 },
 "nbformat": 4,
 "nbformat_minor": 4
}
