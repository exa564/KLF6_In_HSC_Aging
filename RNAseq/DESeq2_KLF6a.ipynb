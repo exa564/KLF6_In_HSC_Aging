{
 "cells": [
  {
   "cell_type": "markdown",
   "metadata": {},
   "source": [
    "# I) Overview\n",
    "- DESeq2 analysis of KLF6 activation in young and aged HSPC\n",
    "- Will use ashr for LFC shrinkage\n",
    "- Will generate Wald statistic to rank genes for GSEA"
   ]
  },
  {
   "cell_type": "code",
   "execution_count": null,
   "metadata": {},
   "outputs": [],
   "source": [
    "setwd('/RNAseq/DESeq2/')"
   ]
  },
  {
   "cell_type": "code",
   "execution_count": null,
   "metadata": {},
   "outputs": [],
   "source": [
    "set.seed(123)"
   ]
  },
  {
   "cell_type": "code",
   "execution_count": null,
   "metadata": {},
   "outputs": [],
   "source": [
    "library(DESeq2)\n",
    "library(tidyr)\n",
    "library(made4)\n",
    "library(ComplexHeatmap)\n",
    "library(circlize)\n",
    "library(ggplot2)\n",
    "library(RColorBrewer)\n",
    "library(pheatmap)\n",
    "library(RColorBrewer)\n",
    "library(pheatmap)\n",
    "library(gridExtra)"
   ]
  },
  {
   "cell_type": "code",
   "execution_count": 4,
   "metadata": {},
   "outputs": [
    {
     "data": {
      "text/plain": [
       "R version 4.0.2 (2020-06-22)\n",
       "Platform: x86_64-conda_cos6-linux-gnu (64-bit)\n",
       "Running under: Debian GNU/Linux 10 (buster)\n",
       "\n",
       "Matrix products: default\n",
       "BLAS/LAPACK: /opt/conda/envs/diffbind/lib/libopenblasp-r0.3.10.so\n",
       "\n",
       "locale:\n",
       " [1] LC_CTYPE=C.UTF-8       LC_NUMERIC=C           LC_TIME=C.UTF-8       \n",
       " [4] LC_COLLATE=C.UTF-8     LC_MONETARY=C.UTF-8    LC_MESSAGES=C.UTF-8   \n",
       " [7] LC_PAPER=C.UTF-8       LC_NAME=C              LC_ADDRESS=C          \n",
       "[10] LC_TELEPHONE=C         LC_MEASUREMENT=C.UTF-8 LC_IDENTIFICATION=C   \n",
       "\n",
       "attached base packages:\n",
       " [1] grid      parallel  stats4    stats     graphics  grDevices utils    \n",
       " [8] datasets  methods   base     \n",
       "\n",
       "other attached packages:\n",
       " [1] gridExtra_2.3               pheatmap_1.0.12            \n",
       " [3] ggplot2_3.3.3               circlize_0.4.11            \n",
       " [5] ComplexHeatmap_2.6.2        made4_1.64.0               \n",
       " [7] scatterplot3d_0.3-41        gplots_3.1.1               \n",
       " [9] RColorBrewer_1.1-2          tidyr_1.1.2                \n",
       "[11] DESeq2_1.30.0               SummarizedExperiment_1.20.0\n",
       "[13] Biobase_2.50.0              MatrixGenerics_1.2.0       \n",
       "[15] matrixStats_0.57.0          GenomicRanges_1.42.0       \n",
       "[17] GenomeInfoDb_1.26.2         IRanges_2.24.1             \n",
       "[19] S4Vectors_0.28.1            BiocGenerics_0.36.0        \n",
       "\n",
       "loaded via a namespace (and not attached):\n",
       " [1] httr_1.4.2             bit64_4.0.5            jsonlite_1.7.2        \n",
       " [4] splines_4.0.2          gtools_3.8.2           blob_1.2.1            \n",
       " [7] GenomeInfoDbData_1.2.4 progress_1.2.2         pillar_1.4.7          \n",
       "[10] RSQLite_2.2.1          lattice_0.20-41        glue_1.4.2            \n",
       "[13] uuid_0.1-4             digest_0.6.27          XVector_0.30.0        \n",
       "[16] colorspace_2.0-0       htmltools_0.5.0        Matrix_1.3-0          \n",
       "[19] XML_3.99-0.5           pkgconfig_2.0.3        GetoptLong_1.0.5      \n",
       "[22] genefilter_1.72.0      zlibbioc_1.36.0        purrr_0.3.4           \n",
       "[25] xtable_1.8-4           scales_1.1.1           BiocParallel_1.24.1   \n",
       "[28] tibble_3.0.4           annotate_1.68.0        generics_0.1.0        \n",
       "[31] ellipsis_0.3.1         withr_2.3.0            repr_1.1.0            \n",
       "[34] survival_3.2-7         magrittr_2.0.1         crayon_1.3.4          \n",
       "[37] memoise_1.1.0          evaluate_0.14          MASS_7.3-53           \n",
       "[40] Cairo_1.5-12.2         prettyunits_1.1.1      tools_4.0.2           \n",
       "[43] GlobalOptions_0.1.2    hms_0.5.3              lifecycle_0.2.0       \n",
       "[46] munsell_0.5.0          locfit_1.5-9.4         cluster_2.1.0         \n",
       "[49] DelayedArray_0.16.0    AnnotationDbi_1.52.0   ade4_1.7-16           \n",
       "[52] compiler_4.0.2         caTools_1.18.0         rlang_0.4.10          \n",
       "[55] RCurl_1.98-1.2         pbdZMQ_0.3-4           IRkernel_1.1.1        \n",
       "[58] rjson_0.2.20           bitops_1.0-6           base64enc_0.1-3       \n",
       "[61] gtable_0.3.0           DBI_1.1.0              R6_2.5.0              \n",
       "[64] dplyr_1.0.2            bit_4.0.4              clue_0.3-58           \n",
       "[67] shape_1.4.5            KernSmooth_2.23-18     IRdisplay_0.7.0       \n",
       "[70] Rcpp_1.0.5             png_0.1-7              vctrs_0.3.6           \n",
       "[73] geneplotter_1.68.0     tidyselect_1.1.0      "
      ]
     },
     "metadata": {},
     "output_type": "display_data"
    }
   ],
   "source": [
    "sessionInfo()"
   ]
  },
  {
   "cell_type": "markdown",
   "metadata": {},
   "source": [
    "# II) Perform differential analysis\n"
   ]
  },
  {
   "cell_type": "markdown",
   "metadata": {},
   "source": [
    "## A) Set directories, levels, and designs, and read in SampleInfo table"
   ]
  },
  {
   "cell_type": "code",
   "execution_count": null,
   "metadata": {},
   "outputs": [],
   "source": [
    "SampleInfo=read.table(\"/RNAseq/SampleInfo_KLF6a.txt\", sep=\"\\t\", header=T, stringsAsFactors=F)"
   ]
  },
  {
   "cell_type": "code",
   "execution_count": null,
   "metadata": {},
   "outputs": [],
   "source": [
    "directory=\"/Counts/\"\n",
    "En_to_GeneSym=read.table(\"/genome//gencode.v19.chr_patch_hapl_scaff_GeneID2Symbol\", sep=\"\\t\", col.names=c(\"ID\", \"GeneSym\"))"
   ]
  },
  {
   "cell_type": "code",
   "execution_count": 10,
   "metadata": {},
   "outputs": [],
   "source": [
    "mylevels = c( \"YngNTC\", \"YngAct\", \"AgeNTC\", \"AgeAct\")"
   ]
  },
  {
   "cell_type": "code",
   "execution_count": 11,
   "metadata": {},
   "outputs": [],
   "source": [
    "comparison_table=as.data.frame(cbind(\"comparison\"=c(\"YngAct\", \"AgeAct\", \"AgeNTC\", \"AgeAct\"), \"control\"=c(rep(\"YngNTC\",3), \"AgeNTC\")))"
   ]
  },
  {
   "cell_type": "code",
   "execution_count": 20,
   "metadata": {},
   "outputs": [],
   "source": [
    "mydesign = \"~Batch + seqBatch + condition\""
   ]
  },
  {
   "cell_type": "markdown",
   "metadata": {},
   "source": [
    "## B) Read in Counts and create table"
   ]
  },
  {
   "cell_type": "code",
   "execution_count": 12,
   "metadata": {},
   "outputs": [],
   "source": [
    "SampleInfo$Batch=as.factor(SampleInfo$Batch)\n",
    "SampleInfo$condition=as.factor(SampleInfo$condition)\n",
    "SampleInfo$donorID=as.factor(SampleInfo$donorID)\n",
    "SampleInfo$seqBatch=as.factor(SampleInfo$seqBatch)\n",
    "SampleInfo$counts=paste(SampleInfo$SampleID, \"txt\", sep=\".\")"
   ]
  },
  {
   "cell_type": "code",
   "execution_count": 13,
   "metadata": {},
   "outputs": [],
   "source": [
    "sampleFiles=grep('*.txt', list.files(directory), value=TRUE)"
   ]
  },
  {
   "cell_type": "code",
   "execution_count": 16,
   "metadata": {},
   "outputs": [],
   "source": [
    "sampleTable=data.frame(sampleName=SampleInfo[, \"SampleID\"],  fileName=SampleInfo[, \"counts\"], condition=SampleInfo[, \"condition\"], Sex=SampleInfo[, \"Sex\"], Age=SampleInfo[, \"Age\"], AgeGroup=SampleInfo[, \"AgeGroup\"],  Replicate=SampleInfo[, \"Replicate\"], Batch=SampleInfo[, \"Batch\"], donorID=SampleInfo[, \"donorID\"], seqBatch=SampleInfo[, \"seqBatch\"])"
   ]
  },
  {
   "cell_type": "code",
   "execution_count": 17,
   "metadata": {},
   "outputs": [
    {
     "data": {
      "text/html": [
       "<table>\n",
       "<caption>A data.frame: 12 × 10</caption>\n",
       "<thead>\n",
       "\t<tr><th scope=col>sampleName</th><th scope=col>fileName</th><th scope=col>condition</th><th scope=col>Sex</th><th scope=col>Age</th><th scope=col>AgeGroup</th><th scope=col>Replicate</th><th scope=col>Batch</th><th scope=col>donorID</th><th scope=col>seqBatch</th></tr>\n",
       "\t<tr><th scope=col>&lt;chr&gt;</th><th scope=col>&lt;chr&gt;</th><th scope=col>&lt;fct&gt;</th><th scope=col>&lt;chr&gt;</th><th scope=col>&lt;int&gt;</th><th scope=col>&lt;chr&gt;</th><th scope=col>&lt;chr&gt;</th><th scope=col>&lt;fct&gt;</th><th scope=col>&lt;fct&gt;</th><th scope=col>&lt;fct&gt;</th></tr>\n",
       "</thead>\n",
       "<tbody>\n",
       "\t<tr><td>AR0049 </td><td>AR0049.txt </td><td>AgeAct</td><td>F</td><td>74</td><td>Aged </td><td>R5</td><td>1</td><td>UMCH00136</td><td>1</td></tr>\n",
       "\t<tr><td>AR0050 </td><td>AR0050.txt </td><td>AgeNTC</td><td>F</td><td>74</td><td>Aged </td><td>R5</td><td>1</td><td>UMCH00136</td><td>1</td></tr>\n",
       "\t<tr><td>AR0051 </td><td>AR0051.txt </td><td>YngNTC</td><td>M</td><td>24</td><td>Young</td><td>R5</td><td>1</td><td>3804     </td><td>1</td></tr>\n",
       "\t<tr><td>AR0052B</td><td>AR0052B.txt</td><td>AgeAct</td><td>F</td><td>79</td><td>Aged </td><td>R6</td><td>2</td><td>UMCH00108</td><td>2</td></tr>\n",
       "\t<tr><td>AR0053B</td><td>AR0053B.txt</td><td>AgeNTC</td><td>F</td><td>79</td><td>Aged </td><td>R6</td><td>2</td><td>UMCH00108</td><td>2</td></tr>\n",
       "\t<tr><td>AR0054B</td><td>AR0054B.txt</td><td>YngNTC</td><td>F</td><td>36</td><td>Young</td><td>R6</td><td>2</td><td>3691     </td><td>2</td></tr>\n",
       "\t<tr><td>AR0055 </td><td>AR0055.txt </td><td>AgeAct</td><td>F</td><td>75</td><td>Aged </td><td>R7</td><td>2</td><td>UMCH0055 </td><td>1</td></tr>\n",
       "\t<tr><td>AR0056 </td><td>AR0056.txt </td><td>AgeNTC</td><td>F</td><td>75</td><td>Aged </td><td>R7</td><td>2</td><td>UMCH0055 </td><td>1</td></tr>\n",
       "\t<tr><td>AR0057 </td><td>AR0057.txt </td><td>YngNTC</td><td>F</td><td>36</td><td>Young</td><td>R7</td><td>2</td><td>3694     </td><td>1</td></tr>\n",
       "\t<tr><td>EA0073 </td><td>EA0073.txt </td><td>YngAct</td><td>F</td><td>36</td><td>Young</td><td>R7</td><td>2</td><td>3694     </td><td>2</td></tr>\n",
       "\t<tr><td>EA0074 </td><td>EA0074.txt </td><td>YngAct</td><td>F</td><td>36</td><td>Young</td><td>R6</td><td>2</td><td>3691     </td><td>2</td></tr>\n",
       "\t<tr><td>EA0075 </td><td>EA0075.txt </td><td>YngAct</td><td>M</td><td>24</td><td>Young</td><td>R5</td><td>1</td><td>3804     </td><td>2</td></tr>\n",
       "</tbody>\n",
       "</table>\n"
      ],
      "text/latex": [
       "A data.frame: 12 × 10\n",
       "\\begin{tabular}{llllllllll}\n",
       " sampleName & fileName & condition & Sex & Age & AgeGroup & Replicate & Batch & donorID & seqBatch\\\\\n",
       " <chr> & <chr> & <fct> & <chr> & <int> & <chr> & <chr> & <fct> & <fct> & <fct>\\\\\n",
       "\\hline\n",
       "\t AR0049  & AR0049.txt  & AgeAct & F & 74 & Aged  & R5 & 1 & UMCH00136 & 1\\\\\n",
       "\t AR0050  & AR0050.txt  & AgeNTC & F & 74 & Aged  & R5 & 1 & UMCH00136 & 1\\\\\n",
       "\t AR0051  & AR0051.txt  & YngNTC & M & 24 & Young & R5 & 1 & 3804      & 1\\\\\n",
       "\t AR0052B & AR0052B.txt & AgeAct & F & 79 & Aged  & R6 & 2 & UMCH00108 & 2\\\\\n",
       "\t AR0053B & AR0053B.txt & AgeNTC & F & 79 & Aged  & R6 & 2 & UMCH00108 & 2\\\\\n",
       "\t AR0054B & AR0054B.txt & YngNTC & F & 36 & Young & R6 & 2 & 3691      & 2\\\\\n",
       "\t AR0055  & AR0055.txt  & AgeAct & F & 75 & Aged  & R7 & 2 & UMCH0055  & 1\\\\\n",
       "\t AR0056  & AR0056.txt  & AgeNTC & F & 75 & Aged  & R7 & 2 & UMCH0055  & 1\\\\\n",
       "\t AR0057  & AR0057.txt  & YngNTC & F & 36 & Young & R7 & 2 & 3694      & 1\\\\\n",
       "\t EA0073  & EA0073.txt  & YngAct & F & 36 & Young & R7 & 2 & 3694      & 2\\\\\n",
       "\t EA0074  & EA0074.txt  & YngAct & F & 36 & Young & R6 & 2 & 3691      & 2\\\\\n",
       "\t EA0075  & EA0075.txt  & YngAct & M & 24 & Young & R5 & 1 & 3804      & 2\\\\\n",
       "\\end{tabular}\n"
      ],
      "text/markdown": [
       "\n",
       "A data.frame: 12 × 10\n",
       "\n",
       "| sampleName &lt;chr&gt; | fileName &lt;chr&gt; | condition &lt;fct&gt; | Sex &lt;chr&gt; | Age &lt;int&gt; | AgeGroup &lt;chr&gt; | Replicate &lt;chr&gt; | Batch &lt;fct&gt; | donorID &lt;fct&gt; | seqBatch &lt;fct&gt; |\n",
       "|---|---|---|---|---|---|---|---|---|---|\n",
       "| AR0049  | AR0049.txt  | AgeAct | F | 74 | Aged  | R5 | 1 | UMCH00136 | 1 |\n",
       "| AR0050  | AR0050.txt  | AgeNTC | F | 74 | Aged  | R5 | 1 | UMCH00136 | 1 |\n",
       "| AR0051  | AR0051.txt  | YngNTC | M | 24 | Young | R5 | 1 | 3804      | 1 |\n",
       "| AR0052B | AR0052B.txt | AgeAct | F | 79 | Aged  | R6 | 2 | UMCH00108 | 2 |\n",
       "| AR0053B | AR0053B.txt | AgeNTC | F | 79 | Aged  | R6 | 2 | UMCH00108 | 2 |\n",
       "| AR0054B | AR0054B.txt | YngNTC | F | 36 | Young | R6 | 2 | 3691      | 2 |\n",
       "| AR0055  | AR0055.txt  | AgeAct | F | 75 | Aged  | R7 | 2 | UMCH0055  | 1 |\n",
       "| AR0056  | AR0056.txt  | AgeNTC | F | 75 | Aged  | R7 | 2 | UMCH0055  | 1 |\n",
       "| AR0057  | AR0057.txt  | YngNTC | F | 36 | Young | R7 | 2 | 3694      | 1 |\n",
       "| EA0073  | EA0073.txt  | YngAct | F | 36 | Young | R7 | 2 | 3694      | 2 |\n",
       "| EA0074  | EA0074.txt  | YngAct | F | 36 | Young | R6 | 2 | 3691      | 2 |\n",
       "| EA0075  | EA0075.txt  | YngAct | M | 24 | Young | R5 | 1 | 3804      | 2 |\n",
       "\n"
      ],
      "text/plain": [
       "   sampleName fileName    condition Sex Age AgeGroup Replicate Batch donorID  \n",
       "1  AR0049     AR0049.txt  AgeAct    F   74  Aged     R5        1     UMCH00136\n",
       "2  AR0050     AR0050.txt  AgeNTC    F   74  Aged     R5        1     UMCH00136\n",
       "3  AR0051     AR0051.txt  YngNTC    M   24  Young    R5        1     3804     \n",
       "4  AR0052B    AR0052B.txt AgeAct    F   79  Aged     R6        2     UMCH00108\n",
       "5  AR0053B    AR0053B.txt AgeNTC    F   79  Aged     R6        2     UMCH00108\n",
       "6  AR0054B    AR0054B.txt YngNTC    F   36  Young    R6        2     3691     \n",
       "7  AR0055     AR0055.txt  AgeAct    F   75  Aged     R7        2     UMCH0055 \n",
       "8  AR0056     AR0056.txt  AgeNTC    F   75  Aged     R7        2     UMCH0055 \n",
       "9  AR0057     AR0057.txt  YngNTC    F   36  Young    R7        2     3694     \n",
       "10 EA0073     EA0073.txt  YngAct    F   36  Young    R7        2     3694     \n",
       "11 EA0074     EA0074.txt  YngAct    F   36  Young    R6        2     3691     \n",
       "12 EA0075     EA0075.txt  YngAct    M   24  Young    R5        1     3804     \n",
       "   seqBatch\n",
       "1  1       \n",
       "2  1       \n",
       "3  1       \n",
       "4  2       \n",
       "5  2       \n",
       "6  2       \n",
       "7  1       \n",
       "8  1       \n",
       "9  1       \n",
       "10 2       \n",
       "11 2       \n",
       "12 2       "
      ]
     },
     "metadata": {},
     "output_type": "display_data"
    }
   ],
   "source": [
    "sampleTable"
   ]
  },
  {
   "cell_type": "markdown",
   "metadata": {},
   "source": [
    "# II) Main function"
   ]
  },
  {
   "cell_type": "code",
   "execution_count": 21,
   "metadata": {},
   "outputs": [],
   "source": [
    "DESEQ_DEG <- function(sampleTable, comparison_table){\n",
    "    suppressMessages(library(DESeq2)) \n",
    "    design_formula = as.formula(mydesign)\n",
    "    \n",
    "    ### Make ddsHTSeq object\n",
    "    dds=DESeqDataSetFromHTSeqCount(sampleTable= sampleTable, directory=directory, design = design_formula)\n",
    "    \n",
    "    ### Re-level\n",
    "    dds$condition <- factor(dds$condition, levels = mylevels)\n",
    "    \n",
    "    ### Perform differnential analysis\n",
    "    dds_Diff=DESeq(dds)\n",
    "    \n",
    "    ### Get regularized log counts\n",
    "    rld=rlog(dds_Diff, blind=FALSE)\n",
    "    rld_counts=as.data.frame(assay(rld))\n",
    "    rld_counts_ann = rld_counts\n",
    "    rld_counts_ann$Ensembl=rownames(rld_counts_ann)\n",
    "    rld_counts_ann=merge(En_to_GeneSym, rld_counts_ann, by.x=\"ID\", by.y=\"Ensembl\")\n",
    "    write.table(rld_counts_ann, \"allRLD_counts.txt\", sep=\"\\t\",quote=F, row.names=F)\n",
    "    ### Get results for each contrast\n",
    "    for (i in 1:nrow(comparison_table)){\n",
    "        res <- lfcShrink(dds_Diff,\n",
    "                                contrast = c(\"condition\",\n",
    "                                    paste(comparison_table$comparison[i]),\n",
    "                                    paste(comparison_table$control[i])),\n",
    "                                type = \"ashr\")\n",
    "        res_ann=as.data.frame(res)\n",
    "        print(dim(res_ann))\n",
    "        sig=as.data.frame(na.omit(res))\n",
    "        sig=sig[which(sig$padj<0.05 & abs(sig$log2FoldChange) >1), ]\n",
    "        sig_ann=cbind(as.data.frame(rownames(sig)), sig) \n",
    "        sig_ann=merge(En_to_GeneSym, sig_ann, by.x=\"ID\", by.y=\"rownames(sig)\")\n",
    "        name = paste(comparison_table$control[i], comparison_table$comparison[i], sep=\"_vs_\")\n",
    "        sig_filename=paste(name, \"_sig_ann.txt\", sep=\"\")\n",
    "        if (dim(sig_ann)[1] > 0) { \n",
    "            write.table(sig_ann, sig_filename, sep=\"\\t\", row.names=F, quote=F)\n",
    "            to_print_list =list(\"Comparison\"=name, \"NumSigGenes\"=dim(sig_ann)[1])\n",
    "            print(to_print_list)\n",
    "        } else {\n",
    "                no_deg = list(\"Comparison\"=name, \"NumSigGenes\"=\"No_Sig_DEG\")\n",
    "                print(no_deg)\n",
    "        }\n",
    "        ####Perform wald, to use for GSEA\n",
    "        wald  <- results(dds_Diff, \n",
    "                         contrast = c(\"condition\",\n",
    "                            paste(comparison_table$comparison[i]),\n",
    "                            paste(comparison_table$control[i])),\n",
    "                         test=\"Wald\")\n",
    "        wald_df = as.data.frame(wald)\n",
    "        res_ann$wald = wald_df[match(rownames(wald_df), rownames(res_ann)), \"stat\"]\n",
    "        res_ann=cbind(as.data.frame(rownames(res_ann)), res_ann)\n",
    "        res_ann=merge(En_to_GeneSym, res_ann, by.x=\"ID\", by.y=\"rownames(res_ann)\")\n",
    "        GSEA=res_ann[,c(\"GeneSym\", \"wald\")]\n",
    "        GSEA = na.omit(GSEA)\n",
    "        GSEA = GSEA[order(GSEA$wald),]\n",
    "        GSEA_filename = paste(name, \"_GSEA.rnk\", sep=\"\")\n",
    "        all_res_filename = paste(name, \"_all_res_ann.txt\", sep=\"\")\n",
    "        write.table(GSEA , GSEA_filename, sep=\"\\t\", row.names=F, quote=F)\n",
    "        write.table(res_ann, all_res_filename, sep=\"\\t\", row.names=F, quote=F)    \n",
    "    }\n",
    "}\n"
   ]
  },
  {
   "cell_type": "code",
   "execution_count": null,
   "metadata": {},
   "outputs": [],
   "source": [
    "DESEQ_DEG(sampleTable, comparison_table)"
   ]
  }
 ],
 "metadata": {
  "kernelspec": {
   "display_name": "R",
   "language": "R",
   "name": "ir"
  },
  "language_info": {
   "codemirror_mode": "r",
   "file_extension": ".r",
   "mimetype": "text/x-r-source",
   "name": "R",
   "pygments_lexer": "r",
   "version": "4.0.2"
  }
 },
 "nbformat": 4,
 "nbformat_minor": 4
}
